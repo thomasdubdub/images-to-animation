{
 "cells": [
  {
   "cell_type": "code",
   "execution_count": 1,
   "metadata": {},
   "outputs": [],
   "source": [
    "import os\n",
    "import imageio.v2 as imageio "
   ]
  },
  {
   "cell_type": "code",
   "execution_count": 2,
   "metadata": {},
   "outputs": [],
   "source": [
    "my_img_folder = \"my_img_folder\""
   ]
  },
  {
   "cell_type": "code",
   "execution_count": null,
   "metadata": {},
   "outputs": [],
   "source": [
    "def create_animation(folder, duration=0.5, loop=True, video=False):\n",
    "    \"\"\"\n",
    "    Creates an animated GIF or MP4 video from images in a folder.\n",
    "\n",
    "    Parameters:\n",
    "        folder (str): Path to the folder containing images.\n",
    "        duration (float): Time between frames (in seconds).\n",
    "        loop (bool): Whether the GIF should loop (ignored for video).\n",
    "        video (bool): If True, creates an MP4 video instead of a GIF.\n",
    "    \"\"\"\n",
    "    valid_extensions = ('.png', '.jpg', '.jpeg', '.gif')\n",
    "\n",
    "    image_files = sorted([\n",
    "        os.path.join(folder, f)\n",
    "        for f in os.listdir(folder)\n",
    "        if f.lower().endswith(valid_extensions)\n",
    "    ])\n",
    "\n",
    "    if not image_files:\n",
    "        print(\"No image files found in the folder.\")\n",
    "        return\n",
    "\n",
    "    if video:\n",
    "        output_file = \"output.mp4\"\n",
    "        writer = imageio.get_writer(output_file, fps=1 / duration, codec='libx264', bitrate='20M', macro_block_size=None)\n",
    "        for filename in image_files:\n",
    "            image = imageio.imread(filename)\n",
    "            writer.append_data(image)\n",
    "        writer.close()\n",
    "        print(f\"MP4 video saved as: {output_file}\")\n",
    "    else:\n",
    "        output_file = \"output.gif\"\n",
    "        frames = [imageio.imread(f) for f in image_files]\n",
    "        imageio.mimsave(output_file, frames, format='GIF', duration=duration * 1000, loop=0 if loop else 1)\n",
    "        print(f\"GIF animation saved as: {output_file}\")"
   ]
  },
  {
   "cell_type": "code",
   "execution_count": 20,
   "metadata": {},
   "outputs": [
    {
     "name": "stdout",
     "output_type": "stream",
     "text": [
      "GIF animation saved as: output.gif\n"
     ]
    }
   ],
   "source": [
    "# Animated gif test\n",
    "create_animation(my_img_folder, duration=0.3)"
   ]
  },
  {
   "cell_type": "code",
   "execution_count": 22,
   "metadata": {},
   "outputs": [
    {
     "name": "stderr",
     "output_type": "stream",
     "text": [
      "IMAGEIO FFMPEG_WRITER WARNING: input image is not divisible by macro_block_size=16, resizing from (1788, 1788) to (1792, 1792) to ensure video compatibility with most codecs and players. To prevent resizing, make your input image divisible by the macro_block_size or set the macro_block_size to 1 (risking incompatibility).\n"
     ]
    },
    {
     "name": "stdout",
     "output_type": "stream",
     "text": [
      "MP4 video saved as: output.mp4\n"
     ]
    }
   ],
   "source": [
    "# Video test\n",
    "create_animation(my_img_folder, video=True, duration=0.1)"
   ]
  }
 ],
 "metadata": {
  "kernelspec": {
   "display_name": "20240216_traffic_contrails",
   "language": "python",
   "name": "python3"
  },
  "language_info": {
   "codemirror_mode": {
    "name": "ipython",
    "version": 3
   },
   "file_extension": ".py",
   "mimetype": "text/x-python",
   "name": "python",
   "nbconvert_exporter": "python",
   "pygments_lexer": "ipython3",
   "version": "3.10.13"
  }
 },
 "nbformat": 4,
 "nbformat_minor": 2
}
