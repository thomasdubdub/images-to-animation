{
 "cells": [
  {
   "cell_type": "code",
   "execution_count": 1,
   "metadata": {},
   "outputs": [],
   "source": [
    "%load_ext lab_black"
   ]
  },
  {
   "cell_type": "code",
   "execution_count": 2,
   "metadata": {},
   "outputs": [],
   "source": [
    "import os\n",
    "import imageio.v2 as imageio"
   ]
  },
  {
   "cell_type": "code",
   "execution_count": null,
   "metadata": {},
   "outputs": [],
   "source": [
    "# Folder with all your images (png, jpg, jpeg or gif) to be sorted alphabetically\n",
    "my_img_folder = \"my_img_folder\""
   ]
  },
  {
   "cell_type": "code",
   "execution_count": 4,
   "metadata": {},
   "outputs": [],
   "source": [
    "def create_animation(folder, duration=0.5, loop=True, video=False):\n",
    "    \"\"\"\n",
    "    Creates an animated GIF or MP4 video from images in a folder.\n",
    "\n",
    "    Parameters:\n",
    "        folder (str): Path to the folder containing images.\n",
    "        duration (float): Time between frames (in seconds).\n",
    "        loop (bool): Whether the GIF should loop (ignored for video).\n",
    "        video (bool): If True, creates an MP4 video instead of a GIF.\n",
    "    \"\"\"\n",
    "    valid_extensions = (\".png\", \".jpg\", \".jpeg\", \".gif\")\n",
    "\n",
    "    image_files = sorted(\n",
    "        [\n",
    "            os.path.join(folder, f)\n",
    "            for f in os.listdir(folder)\n",
    "            if f.lower().endswith(valid_extensions)\n",
    "        ]\n",
    "    )\n",
    "\n",
    "    if not image_files:\n",
    "        print(\"No image files found in the folder.\")\n",
    "        return\n",
    "\n",
    "    if video:\n",
    "        output_file = \"output.mp4\"\n",
    "        writer = imageio.get_writer(\n",
    "            output_file,\n",
    "            fps=1 / duration,\n",
    "            codec=\"libx264\",\n",
    "            bitrate=\"20M\",\n",
    "            macro_block_size=None,\n",
    "        )\n",
    "        for filename in image_files:\n",
    "            image = imageio.imread(filename)\n",
    "            writer.append_data(image)\n",
    "        writer.close()\n",
    "        print(f\"MP4 video saved as: {output_file}\")\n",
    "    else:\n",
    "        output_file = \"output.gif\"\n",
    "        frames = [imageio.imread(f) for f in image_files]\n",
    "        imageio.mimsave(\n",
    "            output_file,\n",
    "            frames,\n",
    "            format=\"GIF\",\n",
    "            duration=duration * 1000,\n",
    "            loop=0 if loop else 1,\n",
    "        )\n",
    "        print(f\"GIF animation saved as: {output_file}\")"
   ]
  },
  {
   "cell_type": "code",
   "execution_count": 5,
   "metadata": {},
   "outputs": [
    {
     "name": "stdout",
     "output_type": "stream",
     "text": [
      "GIF animation saved as: output.gif\n"
     ]
    }
   ],
   "source": [
    "# Animated gif test\n",
    "create_animation(my_img_folder, duration=0.3)"
   ]
  },
  {
   "cell_type": "code",
   "execution_count": 6,
   "metadata": {},
   "outputs": [
    {
     "name": "stdout",
     "output_type": "stream",
     "text": [
      "MP4 video saved as: output.mp4\n"
     ]
    }
   ],
   "source": [
    "# Video test\n",
    "create_animation(my_img_folder, video=True, duration=0.1)"
   ]
  }
 ],
 "metadata": {
  "kernelspec": {
   "display_name": "20240216_traffic_contrails",
   "language": "python",
   "name": "python3"
  },
  "language_info": {
   "codemirror_mode": {
    "name": "ipython",
    "version": 3
   },
   "file_extension": ".py",
   "mimetype": "text/x-python",
   "name": "python",
   "nbconvert_exporter": "python",
   "pygments_lexer": "ipython3",
   "version": "3.10.13"
  }
 },
 "nbformat": 4,
 "nbformat_minor": 2
}
